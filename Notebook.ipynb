{
 "cells": [
  {
   "attachments": {},
   "cell_type": "markdown",
   "metadata": {},
   "source": [
    "Open Food Facts est une base de données collaborative en ligne sur les produits alimentaires du monde entier. Elle est créée et maintenue par une communauté de bénévoles et d'organisations à but non lucratif. Les utilisateurs peuvent rechercher des informations sur les produits alimentaires, notamment les ingrédients, les informations nutritionnelles et les labels de qualité.  Cependant il est à noté que les informations fournies par les utilisateurs, peuvent etre soient inexactes ou incomplètes.\n"
   ]
  },
  {
   "cell_type": "code",
   "execution_count": 2,
   "metadata": {},
   "outputs": [],
   "source": [
    "import pandas as pd\n",
    "import numpy as np\n",
    "import zipfile\n",
    "import seaborn as sn"
   ]
  },
  {
   "cell_type": "code",
   "execution_count": 5,
   "metadata": {},
   "outputs": [],
   "source": [
    "from fonctions import func"
   ]
  },
  {
   "attachments": {},
   "cell_type": "markdown",
   "metadata": {},
   "source": [
    "Exploration du dataset"
   ]
  },
  {
   "cell_type": "code",
   "execution_count": 6,
   "metadata": {},
   "outputs": [],
   "source": [
    "filepath=r\"\\Users\\pandiaye\\OneDrive - KEDGE Business School\\Documents\\Final_Datascience\\en.openfoodfacts.org.products.csv.zip\""
   ]
  },
  {
   "cell_type": "code",
   "execution_count": 7,
   "metadata": {},
   "outputs": [
    {
     "name": "stderr",
     "output_type": "stream",
     "text": [
      "C:\\Users\\pandiaye\\AppData\\Local\\Temp\\ipykernel_3664\\831704157.py:2: DtypeWarning: Columns (0,9,15,24,25,29,30,31,33,51,65,70,87,148) have mixed types. Specify dtype option on import or set low_memory=False.\n",
      "  df = pd.read_csv(filepath,compression=\"zip\",delimiter= '\\t')\n"
     ]
    }
   ],
   "source": [
    "# read the dataset using the compression zip\n",
    "df = pd.read_csv(filepath,compression=\"zip\",delimiter= '\\t')"
   ]
  },
  {
   "cell_type": "code",
   "execution_count": 5,
   "metadata": {},
   "outputs": [
    {
     "name": "stdout",
     "output_type": "stream",
     "text": [
      "<class 'pandas.core.frame.DataFrame'>\n",
      "RangeIndex: 2841812 entries, 0 to 2841811\n",
      "Columns: 201 entries, code to carnitine_100g\n",
      "dtypes: float64(125), int64(2), object(74)\n",
      "memory usage: 4.3+ GB\n",
      "None\n"
     ]
    }
   ],
   "source": [
    "print(df.info())"
   ]
  },
  {
   "cell_type": "code",
   "execution_count": 26,
   "metadata": {},
   "outputs": [
    {
     "data": {
      "text/html": [
       "<div>\n",
       "<style scoped>\n",
       "    .dataframe tbody tr th:only-of-type {\n",
       "        vertical-align: middle;\n",
       "    }\n",
       "\n",
       "    .dataframe tbody tr th {\n",
       "        vertical-align: top;\n",
       "    }\n",
       "\n",
       "    .dataframe thead th {\n",
       "        text-align: right;\n",
       "    }\n",
       "</style>\n",
       "<table border=\"1\" class=\"dataframe\">\n",
       "  <thead>\n",
       "    <tr style=\"text-align: right;\">\n",
       "      <th></th>\n",
       "      <th>code</th>\n",
       "      <th>url</th>\n",
       "      <th>creator</th>\n",
       "      <th>created_t</th>\n",
       "      <th>created_datetime</th>\n",
       "      <th>last_modified_t</th>\n",
       "      <th>last_modified_datetime</th>\n",
       "      <th>last_modified_by</th>\n",
       "      <th>product_name</th>\n",
       "      <th>abbreviated_product_name</th>\n",
       "      <th>...</th>\n",
       "      <th>carbon-footprint-from-meat-or-fish_100g</th>\n",
       "      <th>nutrition-score-fr_100g</th>\n",
       "      <th>nutrition-score-uk_100g</th>\n",
       "      <th>glycemic-index_100g</th>\n",
       "      <th>water-hardness_100g</th>\n",
       "      <th>choline_100g</th>\n",
       "      <th>phylloquinone_100g</th>\n",
       "      <th>beta-glucan_100g</th>\n",
       "      <th>inositol_100g</th>\n",
       "      <th>carnitine_100g</th>\n",
       "    </tr>\n",
       "  </thead>\n",
       "  <tbody>\n",
       "    <tr>\n",
       "      <th>1593428</th>\n",
       "      <td>4009337300322</td>\n",
       "      <td>http://world-en.openfoodfacts.org/product/4009...</td>\n",
       "      <td>kiliweb</td>\n",
       "      <td>1622888553</td>\n",
       "      <td>2021-06-05T10:22:33Z</td>\n",
       "      <td>1649779868</td>\n",
       "      <td>2022-04-12T16:11:08Z</td>\n",
       "      <td>charlesnepote</td>\n",
       "      <td>Bergische Rinderbratwurst</td>\n",
       "      <td>NaN</td>\n",
       "      <td>...</td>\n",
       "      <td>NaN</td>\n",
       "      <td>NaN</td>\n",
       "      <td>NaN</td>\n",
       "      <td>NaN</td>\n",
       "      <td>NaN</td>\n",
       "      <td>NaN</td>\n",
       "      <td>NaN</td>\n",
       "      <td>NaN</td>\n",
       "      <td>NaN</td>\n",
       "      <td>NaN</td>\n",
       "    </tr>\n",
       "    <tr>\n",
       "      <th>2464141</th>\n",
       "      <td>8410282205802</td>\n",
       "      <td>http://world-en.openfoodfacts.org/product/8410...</td>\n",
       "      <td>kiliweb</td>\n",
       "      <td>1573300800</td>\n",
       "      <td>2019-11-09T12:00:00Z</td>\n",
       "      <td>1608117567</td>\n",
       "      <td>2020-12-16T11:19:27Z</td>\n",
       "      <td>elcoco</td>\n",
       "      <td>Petras</td>\n",
       "      <td>NaN</td>\n",
       "      <td>...</td>\n",
       "      <td>NaN</td>\n",
       "      <td>NaN</td>\n",
       "      <td>NaN</td>\n",
       "      <td>NaN</td>\n",
       "      <td>NaN</td>\n",
       "      <td>NaN</td>\n",
       "      <td>NaN</td>\n",
       "      <td>NaN</td>\n",
       "      <td>NaN</td>\n",
       "      <td>NaN</td>\n",
       "    </tr>\n",
       "    <tr>\n",
       "      <th>1736519</th>\n",
       "      <td>4260606740168</td>\n",
       "      <td>http://world-en.openfoodfacts.org/product/4260...</td>\n",
       "      <td>prepperapp</td>\n",
       "      <td>1680596156</td>\n",
       "      <td>2023-04-04T08:15:56Z</td>\n",
       "      <td>1680596833</td>\n",
       "      <td>2023-04-04T08:27:13Z</td>\n",
       "      <td>roboto-app</td>\n",
       "      <td>Spessart Leberwurst</td>\n",
       "      <td>NaN</td>\n",
       "      <td>...</td>\n",
       "      <td>NaN</td>\n",
       "      <td>NaN</td>\n",
       "      <td>NaN</td>\n",
       "      <td>NaN</td>\n",
       "      <td>NaN</td>\n",
       "      <td>NaN</td>\n",
       "      <td>NaN</td>\n",
       "      <td>NaN</td>\n",
       "      <td>NaN</td>\n",
       "      <td>NaN</td>\n",
       "    </tr>\n",
       "    <tr>\n",
       "      <th>586031</th>\n",
       "      <td>713733674539</td>\n",
       "      <td>http://world-en.openfoodfacts.org/product/0713...</td>\n",
       "      <td>org-database-usda</td>\n",
       "      <td>1587659395</td>\n",
       "      <td>2020-04-23T16:29:55Z</td>\n",
       "      <td>1587659396</td>\n",
       "      <td>2020-04-23T16:29:56Z</td>\n",
       "      <td>org-database-usda</td>\n",
       "      <td>Soda</td>\n",
       "      <td>NaN</td>\n",
       "      <td>...</td>\n",
       "      <td>NaN</td>\n",
       "      <td>NaN</td>\n",
       "      <td>NaN</td>\n",
       "      <td>NaN</td>\n",
       "      <td>NaN</td>\n",
       "      <td>NaN</td>\n",
       "      <td>NaN</td>\n",
       "      <td>NaN</td>\n",
       "      <td>NaN</td>\n",
       "      <td>NaN</td>\n",
       "    </tr>\n",
       "    <tr>\n",
       "      <th>162031</th>\n",
       "      <td>41498121570</td>\n",
       "      <td>http://world-en.openfoodfacts.org/product/0041...</td>\n",
       "      <td>waistline-app</td>\n",
       "      <td>1546905836</td>\n",
       "      <td>2019-01-08T00:03:56Z</td>\n",
       "      <td>1562843130</td>\n",
       "      <td>2019-07-11T11:05:30Z</td>\n",
       "      <td>clockwerx</td>\n",
       "      <td>Shredded Mexican style cheese</td>\n",
       "      <td>NaN</td>\n",
       "      <td>...</td>\n",
       "      <td>NaN</td>\n",
       "      <td>11.0</td>\n",
       "      <td>NaN</td>\n",
       "      <td>NaN</td>\n",
       "      <td>NaN</td>\n",
       "      <td>NaN</td>\n",
       "      <td>NaN</td>\n",
       "      <td>NaN</td>\n",
       "      <td>NaN</td>\n",
       "      <td>NaN</td>\n",
       "    </tr>\n",
       "    <tr>\n",
       "      <th>84605</th>\n",
       "      <td>30034075064</td>\n",
       "      <td>http://world-en.openfoodfacts.org/product/0030...</td>\n",
       "      <td>usda-ndb-import</td>\n",
       "      <td>1489078407</td>\n",
       "      <td>2017-03-09T16:53:27Z</td>\n",
       "      <td>1587589832</td>\n",
       "      <td>2020-04-22T21:10:32Z</td>\n",
       "      <td>org-database-usda</td>\n",
       "      <td>Giant eagle, crumbled goat cheese</td>\n",
       "      <td>NaN</td>\n",
       "      <td>...</td>\n",
       "      <td>NaN</td>\n",
       "      <td>12.0</td>\n",
       "      <td>NaN</td>\n",
       "      <td>NaN</td>\n",
       "      <td>NaN</td>\n",
       "      <td>NaN</td>\n",
       "      <td>NaN</td>\n",
       "      <td>NaN</td>\n",
       "      <td>NaN</td>\n",
       "      <td>NaN</td>\n",
       "    </tr>\n",
       "  </tbody>\n",
       "</table>\n",
       "<p>6 rows × 199 columns</p>\n",
       "</div>"
      ],
      "text/plain": [
       "                  code                                                url  \\\n",
       "1593428  4009337300322  http://world-en.openfoodfacts.org/product/4009...   \n",
       "2464141  8410282205802  http://world-en.openfoodfacts.org/product/8410...   \n",
       "1736519  4260606740168  http://world-en.openfoodfacts.org/product/4260...   \n",
       "586031    713733674539  http://world-en.openfoodfacts.org/product/0713...   \n",
       "162031     41498121570  http://world-en.openfoodfacts.org/product/0041...   \n",
       "84605      30034075064  http://world-en.openfoodfacts.org/product/0030...   \n",
       "\n",
       "                   creator   created_t      created_datetime  last_modified_t  \\\n",
       "1593428            kiliweb  1622888553  2021-06-05T10:22:33Z       1649779868   \n",
       "2464141            kiliweb  1573300800  2019-11-09T12:00:00Z       1608117567   \n",
       "1736519         prepperapp  1680596156  2023-04-04T08:15:56Z       1680596833   \n",
       "586031   org-database-usda  1587659395  2020-04-23T16:29:55Z       1587659396   \n",
       "162031       waistline-app  1546905836  2019-01-08T00:03:56Z       1562843130   \n",
       "84605      usda-ndb-import  1489078407  2017-03-09T16:53:27Z       1587589832   \n",
       "\n",
       "        last_modified_datetime   last_modified_by  \\\n",
       "1593428   2022-04-12T16:11:08Z      charlesnepote   \n",
       "2464141   2020-12-16T11:19:27Z             elcoco   \n",
       "1736519   2023-04-04T08:27:13Z         roboto-app   \n",
       "586031    2020-04-23T16:29:56Z  org-database-usda   \n",
       "162031    2019-07-11T11:05:30Z          clockwerx   \n",
       "84605     2020-04-22T21:10:32Z  org-database-usda   \n",
       "\n",
       "                              product_name abbreviated_product_name  ...  \\\n",
       "1593428          Bergische Rinderbratwurst                      NaN  ...   \n",
       "2464141                             Petras                      NaN  ...   \n",
       "1736519                Spessart Leberwurst                      NaN  ...   \n",
       "586031                                Soda                      NaN  ...   \n",
       "162031       Shredded Mexican style cheese                      NaN  ...   \n",
       "84605    Giant eagle, crumbled goat cheese                      NaN  ...   \n",
       "\n",
       "        carbon-footprint-from-meat-or-fish_100g nutrition-score-fr_100g  \\\n",
       "1593428                                     NaN                     NaN   \n",
       "2464141                                     NaN                     NaN   \n",
       "1736519                                     NaN                     NaN   \n",
       "586031                                      NaN                     NaN   \n",
       "162031                                      NaN                    11.0   \n",
       "84605                                       NaN                    12.0   \n",
       "\n",
       "        nutrition-score-uk_100g glycemic-index_100g water-hardness_100g  \\\n",
       "1593428                     NaN                 NaN                 NaN   \n",
       "2464141                     NaN                 NaN                 NaN   \n",
       "1736519                     NaN                 NaN                 NaN   \n",
       "586031                      NaN                 NaN                 NaN   \n",
       "162031                      NaN                 NaN                 NaN   \n",
       "84605                       NaN                 NaN                 NaN   \n",
       "\n",
       "        choline_100g phylloquinone_100g beta-glucan_100g inositol_100g  \\\n",
       "1593428          NaN                NaN              NaN           NaN   \n",
       "2464141          NaN                NaN              NaN           NaN   \n",
       "1736519          NaN                NaN              NaN           NaN   \n",
       "586031           NaN                NaN              NaN           NaN   \n",
       "162031           NaN                NaN              NaN           NaN   \n",
       "84605            NaN                NaN              NaN           NaN   \n",
       "\n",
       "        carnitine_100g  \n",
       "1593428            NaN  \n",
       "2464141            NaN  \n",
       "1736519            NaN  \n",
       "586031             NaN  \n",
       "162031             NaN  \n",
       "84605              NaN  \n",
       "\n",
       "[6 rows x 199 columns]"
      ]
     },
     "execution_count": 26,
     "metadata": {},
     "output_type": "execute_result"
    }
   ],
   "source": [
    "#Affichage d'un échantillon du dataset\n",
    "df.sample(6)"
   ]
  },
  {
   "cell_type": "code",
   "execution_count": 10,
   "metadata": {},
   "outputs": [
    {
     "name": "stdout",
     "output_type": "stream",
     "text": [
      "Le dataset compte 2841812 lignes et 201 variables\n"
     ]
    }
   ],
   "source": [
    "\n",
    "print (\"Le dataset compte {} lignes et {} variables\".format(df.shape[0], df.shape[1]))"
   ]
  },
  {
   "attachments": {},
   "cell_type": "markdown",
   "metadata": {},
   "source": [
    "Nettoyage des données\n"
   ]
  },
  {
   "cell_type": "code",
   "execution_count": null,
   "metadata": {},
   "outputs": [],
   "source": [
    "#Detection des colonnes entienerement vides\n",
    "\n",
    "features,empty_c= func.selected_features(filepath,80,200000)"
   ]
  },
  {
   "cell_type": "code",
   "execution_count": 7,
   "metadata": {},
   "outputs": [
    {
     "data": {
      "text/plain": [
       "134"
      ]
     },
     "execution_count": 7,
     "metadata": {},
     "output_type": "execute_result"
    }
   ],
   "source": [
    "len(empty_c)"
   ]
  },
  {
   "cell_type": "code",
   "execution_count": 8,
   "metadata": {},
   "outputs": [
    {
     "name": "stdout",
     "output_type": "stream",
     "text": [
      "['abbreviated_product_name', 'generic_name', 'packaging', 'packaging_tags', 'packaging_en', 'packaging_text', 'origins', 'origins_tags', 'origins_en', 'manufacturing_places', 'manufacturing_places_tags', 'emb_codes', 'emb_codes_tags', 'first_packaging_code_geo', 'cities', 'cities_tags', 'purchase_places', 'stores', 'allergens', 'allergens_en', 'traces', 'traces_tags', 'traces_en', 'no_nutrition_data', 'additives', 'additives_tags', 'additives_en', 'brand_owner', 'owner', 'data_quality_errors_tags', 'energy-kj_100g', 'energy-from-fat_100g', 'butyric-acid_100g', 'caproic-acid_100g', 'caprylic-acid_100g', 'capric-acid_100g', 'lauric-acid_100g', 'myristic-acid_100g', 'palmitic-acid_100g', 'stearic-acid_100g', 'arachidic-acid_100g', 'behenic-acid_100g', 'lignoceric-acid_100g', 'cerotic-acid_100g', 'montanic-acid_100g', 'melissic-acid_100g', 'unsaturated-fat_100g', 'monounsaturated-fat_100g', 'polyunsaturated-fat_100g', 'omega-3-fat_100g', 'alpha-linolenic-acid_100g', 'eicosapentaenoic-acid_100g', 'docosahexaenoic-acid_100g', 'omega-6-fat_100g', 'linoleic-acid_100g', 'arachidonic-acid_100g', 'gamma-linolenic-acid_100g', 'dihomo-gamma-linolenic-acid_100g', 'omega-9-fat_100g', 'oleic-acid_100g', 'elaidic-acid_100g', 'gondoic-acid_100g', 'mead-acid_100g', 'erucic-acid_100g', 'nervonic-acid_100g', 'trans-fat_100g', 'cholesterol_100g', 'added-sugars_100g', 'sucrose_100g', 'glucose_100g', 'fructose_100g', 'lactose_100g', 'maltose_100g', 'maltodextrins_100g', 'starch_100g', 'polyols_100g', 'erythritol_100g', 'soluble-fiber_100g', 'insoluble-fiber_100g', 'casein_100g', 'serum-proteins_100g', 'nucleotides_100g', 'added-salt_100g', 'alcohol_100g', 'vitamin-a_100g', 'beta-carotene_100g', 'vitamin-d_100g', 'vitamin-e_100g', 'vitamin-k_100g', 'vitamin-c_100g', 'vitamin-b1_100g', 'vitamin-b2_100g', 'vitamin-pp_100g', 'vitamin-b6_100g', 'vitamin-b9_100g', 'folates_100g', 'vitamin-b12_100g', 'biotin_100g', 'pantothenic-acid_100g', 'silica_100g', 'bicarbonate_100g', 'potassium_100g', 'chloride_100g', 'calcium_100g', 'phosphorus_100g', 'iron_100g', 'magnesium_100g', 'zinc_100g', 'copper_100g', 'manganese_100g', 'fluoride_100g', 'selenium_100g', 'chromium_100g', 'molybdenum_100g', 'iodine_100g', 'caffeine_100g', 'taurine_100g', 'ph_100g', 'fruits-vegetables-nuts_100g', 'fruits-vegetables-nuts-dried_100g', 'fruits-vegetables-nuts-estimate_100g', 'collagen-meat-protein-ratio_100g', 'cocoa_100g', 'chlorophyl_100g', 'carbon-footprint_100g', 'carbon-footprint-from-meat-or-fish_100g', 'nutrition-score-uk_100g', 'glycemic-index_100g', 'water-hardness_100g', 'choline_100g', 'phylloquinone_100g', 'beta-glucan_100g', 'inositol_100g', 'carnitine_100g']\n"
     ]
    }
   ],
   "source": [
    "print(empty_c)"
   ]
  },
  {
   "attachments": {},
   "cell_type": "markdown",
   "metadata": {},
   "source": [
    "201 features sur 134 ont un taux de valeurs nulles supérieur à 80%, ce qui représente une très grosse part de données manquantes. La majeure partie de ces variables ne peuvent pas être recalculées puisqu'il s'agit de mesures physico-chimiques directes sur les produits. On decide donc de les supprimer."
   ]
  },
  {
   "cell_type": "code",
   "execution_count": 9,
   "metadata": {},
   "outputs": [],
   "source": [
    "#colonnes selectionnées\n",
    "df=df.drop(empty_c,axis=1)"
   ]
  },
  {
   "cell_type": "code",
   "execution_count": 10,
   "metadata": {},
   "outputs": [
    {
     "name": "stdout",
     "output_type": "stream",
     "text": [
      "<class 'pandas.core.frame.DataFrame'>\n",
      "RangeIndex: 2841812 entries, 0 to 2841811\n",
      "Data columns (total 67 columns):\n",
      " #   Column                                                 Dtype  \n",
      "---  ------                                                 -----  \n",
      " 0   code                                                   object \n",
      " 1   url                                                    object \n",
      " 2   creator                                                object \n",
      " 3   created_t                                              int64  \n",
      " 4   created_datetime                                       object \n",
      " 5   last_modified_t                                        int64  \n",
      " 6   last_modified_datetime                                 object \n",
      " 7   last_modified_by                                       object \n",
      " 8   product_name                                           object \n",
      " 9   quantity                                               object \n",
      " 10  brands                                                 object \n",
      " 11  brands_tags                                            object \n",
      " 12  categories                                             object \n",
      " 13  categories_tags                                        object \n",
      " 14  categories_en                                          object \n",
      " 15  labels                                                 object \n",
      " 16  labels_tags                                            object \n",
      " 17  labels_en                                              object \n",
      " 18  countries                                              object \n",
      " 19  countries_tags                                         object \n",
      " 20  countries_en                                           object \n",
      " 21  ingredients_text                                       object \n",
      " 22  ingredients_tags                                       object \n",
      " 23  ingredients_analysis_tags                              object \n",
      " 24  serving_size                                           object \n",
      " 25  serving_quantity                                       float64\n",
      " 26  additives_n                                            float64\n",
      " 27  nutriscore_score                                       float64\n",
      " 28  nutriscore_grade                                       object \n",
      " 29  nova_group                                             float64\n",
      " 30  pnns_groups_1                                          object \n",
      " 31  pnns_groups_2                                          object \n",
      " 32  food_groups                                            object \n",
      " 33  food_groups_tags                                       object \n",
      " 34  food_groups_en                                         object \n",
      " 35  states                                                 object \n",
      " 36  states_tags                                            object \n",
      " 37  states_en                                              object \n",
      " 38  ecoscore_score                                         float64\n",
      " 39  ecoscore_grade                                         object \n",
      " 40  nutrient_levels_tags                                   object \n",
      " 41  product_quantity                                       float64\n",
      " 42  unique_scans_n                                         float64\n",
      " 43  popularity_tags                                        object \n",
      " 44  completeness                                           float64\n",
      " 45  last_image_t                                           float64\n",
      " 46  last_image_datetime                                    object \n",
      " 47  main_category                                          object \n",
      " 48  main_category_en                                       object \n",
      " 49  image_url                                              object \n",
      " 50  image_small_url                                        object \n",
      " 51  image_ingredients_url                                  object \n",
      " 52  image_ingredients_small_url                            object \n",
      " 53  image_nutrition_url                                    object \n",
      " 54  image_nutrition_small_url                              object \n",
      " 55  energy-kcal_100g                                       float64\n",
      " 56  energy_100g                                            object \n",
      " 57  fat_100g                                               float64\n",
      " 58  saturated-fat_100g                                     float64\n",
      " 59  carbohydrates_100g                                     float64\n",
      " 60  sugars_100g                                            float64\n",
      " 61  fiber_100g                                             float64\n",
      " 62  proteins_100g                                          float64\n",
      " 63  salt_100g                                              float64\n",
      " 64  sodium_100g                                            float64\n",
      " 65  fruits-vegetables-nuts-estimate-from-ingredients_100g  float64\n",
      " 66  nutrition-score-fr_100g                                float64\n",
      "dtypes: float64(20), int64(2), object(45)\n",
      "memory usage: 1.4+ GB\n"
     ]
    }
   ],
   "source": [
    "df.info()"
   ]
  },
  {
   "cell_type": "markdown",
   "metadata": {},
   "source": [
    "La base de données d'Open Food Facts contient plusieurs informations sur les produits alimentaires, notamment :\n",
    "\n",
    "-La liste des ingrédients : Open Food Facts répertorie tous les ingrédients présents dans un produit alimentaire et indique leur origine (végétale, animale ou synthétique).\n",
    "\n",
    "-Les informations nutritionnelles : Les informations sur les calories, les graisses, les glucides, les protéines, les vitamines et les minéraux sont fournies pour chaque produit alimentaire.\n",
    "\n",
    "-Les labels de qualité : La base de données indique les labels de qualité, tels que le label bio, le label équitable, le label sans OGM, etc.\n",
    "\n",
    "-Les additifs : Open Food Facts répertorie les additifs alimentaires présents dans chaque produit alimentaire et fournit des informations sur leur sécurité, leur origine et leur rôle dans le produit.\n",
    "\n",
    "-Les allergènes : La base de données indique les allergènes présents dans chaque produit alimentaire.\n",
    "\n",
    "-Les marques et les producteurs : Les marques et les producteurs sont répertoriés pour chaque produit alimentaire.\n",
    "\n",
    "-Les codes-barres : Open Food Facts utilise les codes-barres pour identifier les produits alimentaires et faciliter la recherche d'informations sur ces derniers."
   ]
  },
  {
   "cell_type": "markdown",
   "metadata": {},
   "source": [
    "En s'appuyant sur la liste ci dessus , nous avons opté pour le clustering sur les informations nutritionnelles qui nous semble le plus pertinent vu le nombre de colonne concernées.  \n",
    "Cette classification regrouperait les produits alimentaires en fonction de leur profil nutritionnel global. Cela pourrait aider les consommateurs à comparer facilement les produits en termes de qualité nutritionnelle globale, plutôt qu'en se concentrant sur des nutriments individuels."
   ]
  },
  {
   "attachments": {},
   "cell_type": "markdown",
   "metadata": {},
   "source": [
    " Pour la suite des analyses, nous allons nous concentrer sur les nutriments des produits. Ces données sont suffixées avec _100g. Nous allons donc conserver les lignes pour lesquelles au moins une de ces features est complétée :"
   ]
  },
  {
   "cell_type": "code",
   "execution_count": 10,
   "metadata": {},
   "outputs": [],
   "source": [
    "# Suppression des doublons en fonction du code\n",
    "df.drop_duplicates(subset =\"code\", keep = 'last', inplace=True)"
   ]
  },
  {
   "cell_type": "code",
   "execution_count": 11,
   "metadata": {},
   "outputs": [],
   "source": [
    "#Nous allons supprimer tous les produits qui n'ont pas de nom qui ne pourront donc être clairement identifiés.\n",
    "df = df[~(df.product_name.isnull())]"
   ]
  },
  {
   "cell_type": "code",
   "execution_count": 12,
   "metadata": {},
   "outputs": [
    {
     "data": {
      "text/plain": [
       "product_name                       brands                 \n",
       "Burger vegetariana                 Bonarea                    318\n",
       "Filet de poulet                    La Nouvelle Agriculture    233\n",
       "Burger vegana                      Bonarea                    214\n",
       "Filet de poulet                    Le Gaulois                 210\n",
       "Finísimo de pechuga de pavo        Bonarea                    159\n",
       "                                                             ... \n",
       "Garbanzos deescacena               El Corte Inglés              1\n",
       "Garbanzos de Castilla con acelgas  Deluxe                       1\n",
       "Garbanzos congelados               carrefour                    1\n",
       "                                   Hacendado                    1\n",
       "🤬                                  🤬                            1\n",
       "Name: code, Length: 1274485, dtype: int64"
      ]
     },
     "execution_count": 12,
     "metadata": {},
     "output_type": "execute_result"
    }
   ],
   "source": [
    "#Detection des produits identiques\n",
    "df[(df[\"product_name\"].isnull()==False) \n",
    "      & (df[\"brands\"].isnull()==False)].groupby(by=[\"product_name\",\"brands\"])[\"code\"].nunique().sort_values(ascending=False)"
   ]
  },
  {
   "cell_type": "code",
   "execution_count": 13,
   "metadata": {},
   "outputs": [],
   "source": [
    "# Suppression des doublons sur marque et produit en conservant les valeurs nulles\n",
    "df = df[(~df.duplicated([\"product_name\",\"brands\"],keep=\"last\")) \n",
    "      | ((df['product_name'].isnull()) & (df['brands'].isnull()))]"
   ]
  },
  {
   "cell_type": "code",
   "execution_count": 14,
   "metadata": {},
   "outputs": [
    {
     "data": {
      "text/html": [
       "<div>\n",
       "<style scoped>\n",
       "    .dataframe tbody tr th:only-of-type {\n",
       "        vertical-align: middle;\n",
       "    }\n",
       "\n",
       "    .dataframe tbody tr th {\n",
       "        vertical-align: top;\n",
       "    }\n",
       "\n",
       "    .dataframe thead th {\n",
       "        text-align: right;\n",
       "    }\n",
       "</style>\n",
       "<table border=\"1\" class=\"dataframe\">\n",
       "  <thead>\n",
       "    <tr style=\"text-align: right;\">\n",
       "      <th></th>\n",
       "      <th>energy-kcal_100g</th>\n",
       "      <th>energy_100g</th>\n",
       "      <th>fat_100g</th>\n",
       "      <th>saturated-fat_100g</th>\n",
       "      <th>carbohydrates_100g</th>\n",
       "      <th>sugars_100g</th>\n",
       "      <th>fiber_100g</th>\n",
       "      <th>proteins_100g</th>\n",
       "      <th>salt_100g</th>\n",
       "      <th>sodium_100g</th>\n",
       "      <th>fruits-vegetables-nuts-estimate-from-ingredients_100g</th>\n",
       "      <th>nutrition-score-fr_100g</th>\n",
       "    </tr>\n",
       "  </thead>\n",
       "  <tbody>\n",
       "    <tr>\n",
       "      <th>0</th>\n",
       "      <td>NaN</td>\n",
       "      <td>NaN</td>\n",
       "      <td>NaN</td>\n",
       "      <td>NaN</td>\n",
       "      <td>NaN</td>\n",
       "      <td>NaN</td>\n",
       "      <td>NaN</td>\n",
       "      <td>NaN</td>\n",
       "      <td>NaN</td>\n",
       "      <td>NaN</td>\n",
       "      <td>NaN</td>\n",
       "      <td>NaN</td>\n",
       "    </tr>\n",
       "    <tr>\n",
       "      <th>1</th>\n",
       "      <td>165.0</td>\n",
       "      <td>690.0</td>\n",
       "      <td>2.0</td>\n",
       "      <td>2.00</td>\n",
       "      <td>65.0</td>\n",
       "      <td>12.60</td>\n",
       "      <td>3.0</td>\n",
       "      <td>1.5</td>\n",
       "      <td>NaN</td>\n",
       "      <td>NaN</td>\n",
       "      <td>NaN</td>\n",
       "      <td>NaN</td>\n",
       "    </tr>\n",
       "    <tr>\n",
       "      <th>4</th>\n",
       "      <td>375.0</td>\n",
       "      <td>1569.0</td>\n",
       "      <td>7.0</td>\n",
       "      <td>3.08</td>\n",
       "      <td>70.1</td>\n",
       "      <td>15.00</td>\n",
       "      <td>NaN</td>\n",
       "      <td>7.8</td>\n",
       "      <td>1.4</td>\n",
       "      <td>0.56</td>\n",
       "      <td>NaN</td>\n",
       "      <td>NaN</td>\n",
       "    </tr>\n",
       "    <tr>\n",
       "      <th>7</th>\n",
       "      <td>194.0</td>\n",
       "      <td>812.0</td>\n",
       "      <td>11.0</td>\n",
       "      <td>3.90</td>\n",
       "      <td>5.7</td>\n",
       "      <td>0.05</td>\n",
       "      <td>NaN</td>\n",
       "      <td>18.0</td>\n",
       "      <td>NaN</td>\n",
       "      <td>NaN</td>\n",
       "      <td>NaN</td>\n",
       "      <td>NaN</td>\n",
       "    </tr>\n",
       "    <tr>\n",
       "      <th>8</th>\n",
       "      <td>874.9</td>\n",
       "      <td>3661.0</td>\n",
       "      <td>15.1</td>\n",
       "      <td>6.10</td>\n",
       "      <td>2.6</td>\n",
       "      <td>1.00</td>\n",
       "      <td>NaN</td>\n",
       "      <td>15.7</td>\n",
       "      <td>2.1</td>\n",
       "      <td>0.84</td>\n",
       "      <td>NaN</td>\n",
       "      <td>NaN</td>\n",
       "    </tr>\n",
       "  </tbody>\n",
       "</table>\n",
       "</div>"
      ],
      "text/plain": [
       "   energy-kcal_100g energy_100g  fat_100g  saturated-fat_100g  \\\n",
       "0               NaN         NaN       NaN                 NaN   \n",
       "1             165.0       690.0       2.0                2.00   \n",
       "4             375.0      1569.0       7.0                3.08   \n",
       "7             194.0       812.0      11.0                3.90   \n",
       "8             874.9      3661.0      15.1                6.10   \n",
       "\n",
       "   carbohydrates_100g  sugars_100g  fiber_100g  proteins_100g  salt_100g  \\\n",
       "0                 NaN          NaN         NaN            NaN        NaN   \n",
       "1                65.0        12.60         3.0            1.5        NaN   \n",
       "4                70.1        15.00         NaN            7.8        1.4   \n",
       "7                 5.7         0.05         NaN           18.0        NaN   \n",
       "8                 2.6         1.00         NaN           15.7        2.1   \n",
       "\n",
       "   sodium_100g  fruits-vegetables-nuts-estimate-from-ingredients_100g  \\\n",
       "0          NaN                                                NaN       \n",
       "1          NaN                                                NaN       \n",
       "4         0.56                                                NaN       \n",
       "7          NaN                                                NaN       \n",
       "8         0.84                                                NaN       \n",
       "\n",
       "   nutrition-score-fr_100g  \n",
       "0                      NaN  \n",
       "1                      NaN  \n",
       "4                      NaN  \n",
       "7                      NaN  \n",
       "8                      NaN  "
      ]
     },
     "execution_count": 14,
     "metadata": {},
     "output_type": "execute_result"
    }
   ],
   "source": [
    "#detection des colonnes nutriments\n",
    "df_subset_nutients = func.search_componant(df,'_100g')\n",
    "df_subset_nutients.head()"
   ]
  },
  {
   "cell_type": "code",
   "execution_count": 16,
   "metadata": {},
   "outputs": [
    {
     "name": "stdout",
     "output_type": "stream",
     "text": [
      "Lignes nutriments (_100g) vides: 295539\n"
     ]
    }
   ],
   "source": [
    "print('Lignes nutriments (_100g) vides: {}'.format(df_subset_nutients.isnull().all(axis=1).sum()))"
   ]
  },
  {
   "cell_type": "code",
   "execution_count": 15,
   "metadata": {},
   "outputs": [
    {
     "data": {
      "text/plain": [
       "(1852003, 67)"
      ]
     },
     "execution_count": 15,
     "metadata": {},
     "output_type": "execute_result"
    }
   ],
   "source": [
    "# Suppression des lignes nutriments vides\n",
    "df_nutri= df[df_subset_nutients.notnull().any(axis=1)]\n",
    "df_nutri.shape"
   ]
  },
  {
   "cell_type": "code",
   "execution_count": 16,
   "metadata": {},
   "outputs": [],
   "source": [
    "df_nutri=df_nutri[df_subset_nutients.columns]"
   ]
  },
  {
   "cell_type": "code",
   "execution_count": 20,
   "metadata": {},
   "outputs": [
    {
     "name": "stdout",
     "output_type": "stream",
     "text": [
      "<class 'pandas.core.frame.DataFrame'>\n",
      "Int64Index: 1852003 entries, 1 to 2841811\n",
      "Data columns (total 12 columns):\n",
      " #   Column                                                 Dtype  \n",
      "---  ------                                                 -----  \n",
      " 0   energy-kcal_100g                                       float64\n",
      " 1   energy_100g                                            object \n",
      " 2   fat_100g                                               float64\n",
      " 3   saturated-fat_100g                                     float64\n",
      " 4   carbohydrates_100g                                     float64\n",
      " 5   sugars_100g                                            float64\n",
      " 6   fiber_100g                                             float64\n",
      " 7   proteins_100g                                          float64\n",
      " 8   salt_100g                                              float64\n",
      " 9   sodium_100g                                            float64\n",
      " 10  fruits-vegetables-nuts-estimate-from-ingredients_100g  float64\n",
      " 11  nutrition-score-fr_100g                                float64\n",
      "dtypes: float64(11), object(1)\n",
      "memory usage: 183.7+ MB\n"
     ]
    }
   ],
   "source": [
    "df_nutri.info()"
   ]
  },
  {
   "cell_type": "code",
   "execution_count": 17,
   "metadata": {},
   "outputs": [],
   "source": [
    "data= df_nutri.drop([\"energy-kcal_100g\",\"energy_100g\",\"nutrition-score-fr_100g\"],axis=1)"
   ]
  },
  {
   "cell_type": "code",
   "execution_count": 18,
   "metadata": {},
   "outputs": [],
   "source": [
    "#On supprime les lignes contenant des valeurs négatives et des max aberrants\n",
    "data = data[~(data[data.columns] < 0).any(axis=1)]"
   ]
  },
  {
   "cell_type": "code",
   "execution_count": 19,
   "metadata": {},
   "outputs": [],
   "source": [
    "data = data[~(data[data.columns] > 100).any(axis=1)]"
   ]
  },
  {
   "cell_type": "code",
   "execution_count": 20,
   "metadata": {},
   "outputs": [],
   "source": [
    "data=data.fillna(0)"
   ]
  },
  {
   "cell_type": "code",
   "execution_count": null,
   "metadata": {},
   "outputs": [],
   "source": []
  },
  {
   "cell_type": "code",
   "execution_count": null,
   "metadata": {},
   "outputs": [],
   "source": []
  },
  {
   "cell_type": "code",
   "execution_count": 21,
   "metadata": {},
   "outputs": [],
   "source": [
    "data[\"somme_100g\"] = data.sum(axis=1)"
   ]
  },
  {
   "cell_type": "code",
   "execution_count": 43,
   "metadata": {},
   "outputs": [
    {
     "name": "stdout",
     "output_type": "stream",
     "text": [
      "<class 'pandas.core.frame.DataFrame'>\n",
      "Int64Index: 1848581 entries, 1 to 2841811\n",
      "Data columns (total 10 columns):\n",
      " #   Column                                                 Dtype  \n",
      "---  ------                                                 -----  \n",
      " 0   fat_100g                                               float64\n",
      " 1   saturated-fat_100g                                     float64\n",
      " 2   carbohydrates_100g                                     float64\n",
      " 3   sugars_100g                                            float64\n",
      " 4   fiber_100g                                             float64\n",
      " 5   proteins_100g                                          float64\n",
      " 6   salt_100g                                              float64\n",
      " 7   sodium_100g                                            float64\n",
      " 8   fruits-vegetables-nuts-estimate-from-ingredients_100g  float64\n",
      " 9   somme_100g                                             float64\n",
      "dtypes: float64(10)\n",
      "memory usage: 155.1 MB\n"
     ]
    }
   ],
   "source": [
    "data.info()"
   ]
  },
  {
   "cell_type": "code",
   "execution_count": 33,
   "metadata": {},
   "outputs": [
    {
     "data": {
      "text/plain": [
       "<Axes: xlabel='somme_100g', ylabel='Count'>"
      ]
     },
     "execution_count": 33,
     "metadata": {},
     "output_type": "execute_result"
    },
    {
     "data": {
      "image/png": "[encoded data removed]",
      "text/plain": [
       "<Figure size 640x480 with 1 Axes>"
      ]
     },
     "metadata": {},
     "output_type": "display_data"
    }
   ],
   "source": [
    "sn.histplot(data=data, x=\"somme_100g\")"
   ]
  },
  {
   "cell_type": "code",
   "execution_count": 28,
   "metadata": {},
   "outputs": [
    {
     "data": {
      "text/html": [
       "<div>\n",
       "<style scoped>\n",
       "    .dataframe tbody tr th:only-of-type {\n",
       "        vertical-align: middle;\n",
       "    }\n",
       "\n",
       "    .dataframe tbody tr th {\n",
       "        vertical-align: top;\n",
       "    }\n",
       "\n",
       "    .dataframe thead th {\n",
       "        text-align: right;\n",
       "    }\n",
       "</style>\n",
       "<table border=\"1\" class=\"dataframe\">\n",
       "  <thead>\n",
       "    <tr style=\"text-align: right;\">\n",
       "      <th></th>\n",
       "      <th>fat_100g</th>\n",
       "      <th>saturated-fat_100g</th>\n",
       "      <th>carbohydrates_100g</th>\n",
       "      <th>sugars_100g</th>\n",
       "      <th>fiber_100g</th>\n",
       "      <th>proteins_100g</th>\n",
       "      <th>salt_100g</th>\n",
       "      <th>sodium_100g</th>\n",
       "      <th>fruits-vegetables-nuts-estimate-from-ingredients_100g</th>\n",
       "      <th>somme_100g</th>\n",
       "    </tr>\n",
       "  </thead>\n",
       "  <tbody>\n",
       "    <tr>\n",
       "      <th>2836254</th>\n",
       "      <td>1.200000</td>\n",
       "      <td>1.200000</td>\n",
       "      <td>75.000000</td>\n",
       "      <td>0.0</td>\n",
       "      <td>0.0</td>\n",
       "      <td>11.000000</td>\n",
       "      <td>0.010000</td>\n",
       "      <td>0.004000</td>\n",
       "      <td>0.0</td>\n",
       "      <td>88.414000</td>\n",
       "    </tr>\n",
       "    <tr>\n",
       "      <th>194917</th>\n",
       "      <td>0.000000</td>\n",
       "      <td>0.000000</td>\n",
       "      <td>12.920000</td>\n",
       "      <td>12.5</td>\n",
       "      <td>0.0</td>\n",
       "      <td>0.000000</td>\n",
       "      <td>0.010000</td>\n",
       "      <td>0.004000</td>\n",
       "      <td>0.0</td>\n",
       "      <td>25.434000</td>\n",
       "    </tr>\n",
       "    <tr>\n",
       "      <th>1622584</th>\n",
       "      <td>25.800000</td>\n",
       "      <td>17.400000</td>\n",
       "      <td>25.600000</td>\n",
       "      <td>0.6</td>\n",
       "      <td>0.0</td>\n",
       "      <td>25.600000</td>\n",
       "      <td>0.600000</td>\n",
       "      <td>0.240000</td>\n",
       "      <td>0.0</td>\n",
       "      <td>95.840000</td>\n",
       "    </tr>\n",
       "    <tr>\n",
       "      <th>659439</th>\n",
       "      <td>11.666667</td>\n",
       "      <td>5.833333</td>\n",
       "      <td>41.666667</td>\n",
       "      <td>10.0</td>\n",
       "      <td>25.0</td>\n",
       "      <td>33.333333</td>\n",
       "      <td>0.833333</td>\n",
       "      <td>0.333333</td>\n",
       "      <td>0.0</td>\n",
       "      <td>128.666667</td>\n",
       "    </tr>\n",
       "    <tr>\n",
       "      <th>1764992</th>\n",
       "      <td>6.100000</td>\n",
       "      <td>3.900000</td>\n",
       "      <td>79.300000</td>\n",
       "      <td>67.5</td>\n",
       "      <td>0.0</td>\n",
       "      <td>3.200000</td>\n",
       "      <td>0.120000</td>\n",
       "      <td>0.048000</td>\n",
       "      <td>0.0</td>\n",
       "      <td>160.168000</td>\n",
       "    </tr>\n",
       "  </tbody>\n",
       "</table>\n",
       "</div>"
      ],
      "text/plain": [
       "          fat_100g  saturated-fat_100g  carbohydrates_100g  sugars_100g  \\\n",
       "2836254   1.200000            1.200000           75.000000          0.0   \n",
       "194917    0.000000            0.000000           12.920000         12.5   \n",
       "1622584  25.800000           17.400000           25.600000          0.6   \n",
       "659439   11.666667            5.833333           41.666667         10.0   \n",
       "1764992   6.100000            3.900000           79.300000         67.5   \n",
       "\n",
       "         fiber_100g  proteins_100g  salt_100g  sodium_100g  \\\n",
       "2836254         0.0      11.000000   0.010000     0.004000   \n",
       "194917          0.0       0.000000   0.010000     0.004000   \n",
       "1622584         0.0      25.600000   0.600000     0.240000   \n",
       "659439         25.0      33.333333   0.833333     0.333333   \n",
       "1764992         0.0       3.200000   0.120000     0.048000   \n",
       "\n",
       "         fruits-vegetables-nuts-estimate-from-ingredients_100g  somme_100g  \n",
       "2836254                                                0.0       88.414000  \n",
       "194917                                                 0.0       25.434000  \n",
       "1622584                                                0.0       95.840000  \n",
       "659439                                                 0.0      128.666667  \n",
       "1764992                                                0.0      160.168000  "
      ]
     },
     "execution_count": 28,
     "metadata": {},
     "output_type": "execute_result"
    }
   ],
   "source": [
    "data.sample(5)"
   ]
  },
  {
   "cell_type": "code",
   "execution_count": 22,
   "metadata": {},
   "outputs": [],
   "source": [
    "de = data[(data[\"somme_100g\"] > 80)]"
   ]
  },
  {
   "cell_type": "code",
   "execution_count": 23,
   "metadata": {},
   "outputs": [],
   "source": [
    "de= de[(de[\"somme_100g\"] < 120 )]"
   ]
  },
  {
   "cell_type": "code",
   "execution_count": 51,
   "metadata": {},
   "outputs": [
    {
     "name": "stdout",
     "output_type": "stream",
     "text": [
      "<class 'pandas.core.frame.DataFrame'>\n",
      "Int64Index: 424238 entries, 1 to 2841811\n",
      "Data columns (total 10 columns):\n",
      " #   Column                                                 Non-Null Count   Dtype  \n",
      "---  ------                                                 --------------   -----  \n",
      " 0   fat_100g                                               424238 non-null  float64\n",
      " 1   saturated-fat_100g                                     424238 non-null  float64\n",
      " 2   carbohydrates_100g                                     424238 non-null  float64\n",
      " 3   sugars_100g                                            424238 non-null  float64\n",
      " 4   fiber_100g                                             424238 non-null  float64\n",
      " 5   proteins_100g                                          424238 non-null  float64\n",
      " 6   salt_100g                                              424238 non-null  float64\n",
      " 7   sodium_100g                                            424238 non-null  float64\n",
      " 8   fruits-vegetables-nuts-estimate-from-ingredients_100g  424238 non-null  float64\n",
      " 9   somme_100g                                             424238 non-null  float64\n",
      "dtypes: float64(10)\n",
      "memory usage: 35.6 MB\n"
     ]
    }
   ],
   "source": [
    "de.info()"
   ]
  },
  {
   "cell_type": "code",
   "execution_count": 52,
   "metadata": {},
   "outputs": [
    {
     "data": {
      "text/plain": [
       "<Axes: xlabel='somme_100g', ylabel='Count'>"
      ]
     },
     "execution_count": 52,
     "metadata": {},
     "output_type": "execute_result"
    },
    {
     "data": {
      "image/png": "[encoded data removed]",
      "text/plain": [
       "<Figure size 640x480 with 1 Axes>"
      ]
     },
     "metadata": {},
     "output_type": "display_data"
    }
   ],
   "source": [
    "sn.histplot(data=de, x=\"somme_100g\")"
   ]
  },
  {
   "cell_type": "code",
   "execution_count": null,
   "metadata": {},
   "outputs": [],
   "source": [
    "de=de.drop(\"somme_100g\",axis=1)"
   ]
  },
  {
   "cell_type": "code",
   "execution_count": 27,
   "metadata": {},
   "outputs": [],
   "source": [
    "np.save(\"data_cleaned_1.npy\",de)"
   ]
  },
  {
   "cell_type": "code",
   "execution_count": null,
   "metadata": {},
   "outputs": [],
   "source": []
  },
  {
   "cell_type": "code",
   "execution_count": null,
   "metadata": {},
   "outputs": [],
   "source": [
    "# Suppression des lignes nutriments vides\n",
    "df_nutri2= df[df_subset_nutients.notnull().any(axis=1)]\n",
    "df_nutri2.shape"
   ]
  },
  {
   "cell_type": "code",
   "execution_count": null,
   "metadata": {},
   "outputs": [],
   "source": [
    "chosen=df_subset_nutients.columns+ [\"pnns_groups_2\"]"
   ]
  },
  {
   "cell_type": "code",
   "execution_count": null,
   "metadata": {},
   "outputs": [],
   "source": []
  },
  {
   "cell_type": "code",
   "execution_count": null,
   "metadata": {},
   "outputs": [],
   "source": [
    "df_nutri2=df_nutri2[chosen]"
   ]
  },
  {
   "cell_type": "code",
   "execution_count": null,
   "metadata": {},
   "outputs": [],
   "source": [
    "df_nutri2= df_nutri2.drop([\"energy-kcal_100g\",\"energy_100g\",\"nutrition-score-fr_100g\"],axis=1)"
   ]
  },
  {
   "cell_type": "code",
   "execution_count": null,
   "metadata": {},
   "outputs": [],
   "source": [
    "#On supprime les lignes contenant des valeurs négatives et des max aberrants\n",
    "df_nutri2 = df_nutri2[~(df_nutri2[data.columns] < 0).any(axis=1)]\n",
    "df_nutri2 = df_nutri2[~(df_nutri2[data.columns] > 100).any(axis=1)]"
   ]
  },
  {
   "cell_type": "code",
   "execution_count": null,
   "metadata": {},
   "outputs": [],
   "source": [
    "# On complète les variables restantes avec la médiane du groupe pnns 2\n",
    "for col in data.columns:\n",
    "    df_nutri2[col] = df_nutri2.groupby('pnns_groups_2')[col].transform(lambda x: x.fillna(x.median()))"
   ]
  },
  {
   "cell_type": "code",
   "execution_count": null,
   "metadata": {},
   "outputs": [],
   "source": [
    "df_nutri2bis=df_nutri2.drop(\"pnns_groups_2\",axis=1)"
   ]
  },
  {
   "cell_type": "code",
   "execution_count": null,
   "metadata": {},
   "outputs": [],
   "source": [
    "df_nutri2bis[\"somme_100g\"] = df_nutri2bis.sum(axis=1)"
   ]
  },
  {
   "cell_type": "code",
   "execution_count": null,
   "metadata": {},
   "outputs": [],
   "source": [
    "df_nutri2bis = df_nutri2bis[(df_nutri2bis[\"somme_100g\"] > 90)]\n",
    "df_nutri2bis = df_nutri2bis[(df_nutri2bis[\"somme_100g\"] < 105)]"
   ]
  },
  {
   "cell_type": "code",
   "execution_count": null,
   "metadata": {},
   "outputs": [],
   "source": [
    "sn.histplot(data=df_nutri2bis, x=\"somme_100g\")"
   ]
  },
  {
   "cell_type": "code",
   "execution_count": null,
   "metadata": {},
   "outputs": [],
   "source": [
    "df_nutri2bis=df_nutri2bis.drop(\"somme_100g\",axis=1)"
   ]
  },
  {
   "cell_type": "code",
   "execution_count": null,
   "metadata": {},
   "outputs": [],
   "source": [
    "np.save(\"data_cleaned_2.npy\",df_nutri2bis)"
   ]
  },
  {
   "attachments": {},
   "cell_type": "markdown",
   "metadata": {},
   "source": []
  },
  {
   "attachments": {},
   "cell_type": "markdown",
   "metadata": {},
   "source": [
    "   #Clustering"
   ]
  },
  {
   "cell_type": "code",
   "execution_count": 10,
   "metadata": {},
   "outputs": [],
   "source": [
    "from sklearn.cluster import Birch,AgglomerativeClustering\n",
    "from sklearn.experimental import enable_halving_search_cv\n",
    "from sklearn.model_selection import HalvingGridSearchCV\n",
    "from sklearn.metrics import silhouette_score,make_scorer,calinski_harabasz_score\n",
    "import matplotlib.pyplot as plt\n",
    "from sklearn.preprocessing import StandardScaler"
   ]
  },
  {
   "cell_type": "code",
   "execution_count": 3,
   "metadata": {},
   "outputs": [],
   "source": [
    "X=np.load(r'C:\\Users\\pandiaye\\OneDrive - KEDGE Business School\\Documents\\Clustering\\data_cleaned_1.npy')"
   ]
  },
  {
   "cell_type": "code",
   "execution_count": null,
   "metadata": {},
   "outputs": [],
   "source": [
    "# Normaliser les données\n",
    "scaler = StandardScaler()\n",
    "X = scaler.fit_transform(X)"
   ]
  },
  {
   "cell_type": "code",
   "execution_count": null,
   "metadata": {},
   "outputs": [],
   "source": [
    "# Créer un objet Birch avec HalvingSearch\n",
    "birch = Birch(n_clusters=None, threshold=0.5, branching_factor=50)\n",
    "birch.fit(X)"
   ]
  },
  {
   "cell_type": "code",
   "execution_count": 12,
   "metadata": {},
   "outputs": [
    {
     "name": "stdout",
     "output_type": "stream",
     "text": [
      "Number of clusters found by BIRCH: 258540\n"
     ]
    }
   ],
   "source": [
    "# Get labels and number of clusters from BIRCH\n",
    "labels = birch.labels_\n",
    "n_clusters = len(set(labels)) - (1 if -1 in labels else 0)\n",
    "print(f\"Number of clusters found by BIRCH: {n_clusters}\")"
   ]
  },
  {
   "cell_type": "code",
   "execution_count": 8,
   "metadata": {},
   "outputs": [
    {
     "name": "stdout",
     "output_type": "stream",
     "text": [
      "Silhouette : 0.3674228849722239\n",
      "Cohésion et séparation : 48466.00794818267\n"
     ]
    }
   ],
   "source": [
    "# Calculer la silhouette\n",
    "silhouette = silhouette_score(X, birch.labels_)\n",
    "print(\"Silhouette :\", silhouette)\n",
    "\n",
    "# Calculer la cohésion et la séparation\n",
    "ch_score = calinski_harabasz_score(X, birch.labels_)\n",
    "print(\"Cohésion et séparation :\", ch_score)"
   ]
  },
  {
   "cell_type": "code",
   "execution_count": null,
   "metadata": {},
   "outputs": [],
   "source": [
    "# Visualiser l'arbre de clustering\n",
    "plt.figure(figsize=(10, 7))\n",
    "birch.plot_tree()\n",
    "plt.show()"
   ]
  },
  {
   "cell_type": "code",
   "execution_count": 14,
   "metadata": {},
   "outputs": [
    {
     "data": {
      "text/html": [
       "<style>#sk-container-id-1 {color: black;background-color: white;}#sk-container-id-1 pre{padding: 0;}#sk-container-id-1 div.sk-toggleable {background-color: white;}#sk-container-id-1 label.sk-toggleable__label {cursor: pointer;display: block;width: 100%;margin-bottom: 0;padding: 0.3em;box-sizing: border-box;text-align: center;}#sk-container-id-1 label.sk-toggleable__label-arrow:before {content: \"▸\";float: left;margin-right: 0.25em;color: #696969;}#sk-container-id-1 label.sk-toggleable__label-arrow:hover:before {color: black;}#sk-container-id-1 div.sk-estimator:hover label.sk-toggleable__label-arrow:before {color: black;}#sk-container-id-1 div.sk-toggleable__content {max-height: 0;max-width: 0;overflow: hidden;text-align: left;background-color: #f0f8ff;}#sk-container-id-1 div.sk-toggleable__content pre {margin: 0.2em;color: black;border-radius: 0.25em;background-color: #f0f8ff;}#sk-container-id-1 input.sk-toggleable__control:checked~div.sk-toggleable__content {max-height: 200px;max-width: 100%;overflow: auto;}#sk-container-id-1 input.sk-toggleable__control:checked~label.sk-toggleable__label-arrow:before {content: \"▾\";}#sk-container-id-1 div.sk-estimator input.sk-toggleable__control:checked~label.sk-toggleable__label {background-color: #d4ebff;}#sk-container-id-1 div.sk-label input.sk-toggleable__control:checked~label.sk-toggleable__label {background-color: #d4ebff;}#sk-container-id-1 input.sk-hidden--visually {border: 0;clip: rect(1px 1px 1px 1px);clip: rect(1px, 1px, 1px, 1px);height: 1px;margin: -1px;overflow: hidden;padding: 0;position: absolute;width: 1px;}#sk-container-id-1 div.sk-estimator {font-family: monospace;background-color: #f0f8ff;border: 1px dotted black;border-radius: 0.25em;box-sizing: border-box;margin-bottom: 0.5em;}#sk-container-id-1 div.sk-estimator:hover {background-color: #d4ebff;}#sk-container-id-1 div.sk-parallel-item::after {content: \"\";width: 100%;border-bottom: 1px solid gray;flex-grow: 1;}#sk-container-id-1 div.sk-label:hover label.sk-toggleable__label {background-color: #d4ebff;}#sk-container-id-1 div.sk-serial::before {content: \"\";position: absolute;border-left: 1px solid gray;box-sizing: border-box;top: 0;bottom: 0;left: 50%;z-index: 0;}#sk-container-id-1 div.sk-serial {display: flex;flex-direction: column;align-items: center;background-color: white;padding-right: 0.2em;padding-left: 0.2em;position: relative;}#sk-container-id-1 div.sk-item {position: relative;z-index: 1;}#sk-container-id-1 div.sk-parallel {display: flex;align-items: stretch;justify-content: center;background-color: white;position: relative;}#sk-container-id-1 div.sk-item::before, #sk-container-id-1 div.sk-parallel-item::before {content: \"\";position: absolute;border-left: 1px solid gray;box-sizing: border-box;top: 0;bottom: 0;left: 50%;z-index: -1;}#sk-container-id-1 div.sk-parallel-item {display: flex;flex-direction: column;z-index: 1;position: relative;background-color: white;}#sk-container-id-1 div.sk-parallel-item:first-child::after {align-self: flex-end;width: 50%;}#sk-container-id-1 div.sk-parallel-item:last-child::after {align-self: flex-start;width: 50%;}#sk-container-id-1 div.sk-parallel-item:only-child::after {width: 0;}#sk-container-id-1 div.sk-dashed-wrapped {border: 1px dashed gray;margin: 0 0.4em 0.5em 0.4em;box-sizing: border-box;padding-bottom: 0.4em;background-color: white;}#sk-container-id-1 div.sk-label label {font-family: monospace;font-weight: bold;display: inline-block;line-height: 1.2em;}#sk-container-id-1 div.sk-label-container {text-align: center;}#sk-container-id-1 div.sk-container {/* jupyter's `normalize.less` sets `[hidden] { display: none; }` but bootstrap.min.css set `[hidden] { display: none !important; }` so we also need the `!important` here to be able to override the default hidden behavior on the sphinx rendered scikit-learn.org. See: https://github.com/scikit-learn/scikit-learn/issues/21755 */display: inline-block !important;position: relative;}#sk-container-id-1 div.sk-text-repr-fallback {display: none;}</style><div id=\"sk-container-id-1\" class=\"sk-top-container\"><div class=\"sk-text-repr-fallback\"><pre>Birch(branching_factor=10, n_clusters=None)</pre><b>In a Jupyter environment, please rerun this cell to show the HTML representation or trust the notebook. <br />On GitHub, the HTML representation is unable to render, please try loading this page with nbviewer.org.</b></div><div class=\"sk-container\" hidden><div class=\"sk-item\"><div class=\"sk-estimator sk-toggleable\"><input class=\"sk-toggleable__control sk-hidden--visually\" id=\"sk-estimator-id-1\" type=\"checkbox\" checked><label for=\"sk-estimator-id-1\" class=\"sk-toggleable__label sk-toggleable__label-arrow\">Birch</label><div class=\"sk-toggleable__content\"><pre>Birch(branching_factor=10, n_clusters=None)</pre></div></div></div></div></div>"
      ],
      "text/plain": [
       "Birch(branching_factor=10, n_clusters=None)"
      ]
     },
     "execution_count": 14,
     "metadata": {},
     "output_type": "execute_result"
    }
   ],
   "source": [
    "# Créer un objet Birch avec HalvingSearch\n",
    "birch2 = Birch(n_clusters=None, threshold=0.5, branching_factor=10)\n",
    "birch2.fit(X)"
   ]
  },
  {
   "cell_type": "code",
   "execution_count": 16,
   "metadata": {},
   "outputs": [],
   "source": [
    "# Calculer la silhouette\n",
    "silhouette2 = silhouette_score(X, birch2.labels_)\n",
    "print(\"Silhouette :\", silhouette2)"
   ]
  },
  {
   "cell_type": "code",
   "execution_count": null,
   "metadata": {},
   "outputs": [],
   "source": [
    "# Create and fit Agglomerative Clustering with BIRCH output\n",
    "agg = AgglomerativeClustering(n_clusters=n_clusters, linkage=\"ward\")\n",
    "agg.fit(birch.transform(X))"
   ]
  },
  {
   "cell_type": "code",
   "execution_count": null,
   "metadata": {},
   "outputs": [],
   "source": [
    "# X est la matrice de données normalisées\n",
    "# labels est une liste des étiquettes de cluster pour chaque échantillon\n",
    "score = silhouette_score(X,  agg.labels_)\n",
    "print(\"Silhouette score: \", score)\n"
   ]
  },
  {
   "cell_type": "code",
   "execution_count": null,
   "metadata": {},
   "outputs": [],
   "source": [
    "# Apply PCA to reduce the dimensions of the dataset to 2\n",
    "pca = PCA(n_components=2)\n",
    "X_reduced = pca.fit_transform(X)"
   ]
  },
  {
   "cell_type": "code",
   "execution_count": null,
   "metadata": {},
   "outputs": [],
   "source": []
  },
  {
   "cell_type": "code",
   "execution_count": null,
   "metadata": {},
   "outputs": [],
   "source": []
  },
  {
   "cell_type": "code",
   "execution_count": null,
   "metadata": {},
   "outputs": [],
   "source": []
  }
 ],
 "metadata": {
  "kernelspec": {
   "display_name": "Python 3",
   "language": "python",
   "name": "python3"
  },
  "language_info": {
   "codemirror_mode": {
    "name": "ipython",
    "version": 3
   },
   "file_extension": ".py",
   "mimetype": "text/x-python",
   "name": "python",
   "nbconvert_exporter": "python",
   "pygments_lexer": "ipython3",
   "version": "3.11.1"
  },
  "orig_nbformat": 4
 },
 "nbformat": 4,
 "nbformat_minor": 2
}
